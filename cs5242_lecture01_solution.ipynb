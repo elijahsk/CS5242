{
  "nbformat": 4,
  "nbformat_minor": 0,
  "metadata": {
    "colab": {
      "name": "cs5242-lecture01-solution",
      "version": "0.3.2",
      "provenance": [],
      "collapsed_sections": [],
      "include_colab_link": true
    },
    "kernelspec": {
      "name": "python3",
      "display_name": "Python 3"
    }
  },
  "cells": [
    {
      "cell_type": "markdown",
      "metadata": {
        "id": "view-in-github",
        "colab_type": "text"
      },
      "source": [
        "<a href=\"https://colab.research.google.com/github/elijahsk/CS5242/blob/master/cs5242_lecture01_solution.ipynb\" target=\"_parent\"><img src=\"https://colab.research.google.com/assets/colab-badge.svg\" alt=\"Open In Colab\"/></a>"
      ]
    },
    {
      "cell_type": "code",
      "metadata": {
        "id": "Wrl4vtzg502Y",
        "colab_type": "code",
        "colab": {}
      },
      "source": [
        "import numpy as np"
      ],
      "execution_count": 0,
      "outputs": []
    },
    {
      "cell_type": "markdown",
      "metadata": {
        "id": "vFZO-hyC6JFq",
        "colab_type": "text"
      },
      "source": [
        "# 1. Tensor Construction\n",
        "\n",
        "\n",
        "In numpy the data is stored in arrays. We call one array as a tensor, which could be a scalar, vector, matrix or higher dimensional array.\n",
        "\n",
        "\n"
      ]
    },
    {
      "cell_type": "code",
      "metadata": {
        "id": "p-f2xYyz7tOK",
        "colab_type": "code",
        "outputId": "75ba2a0e-4821-42fa-e10c-65a9c7ada39b",
        "colab": {
          "base_uri": "https://localhost:8080/",
          "height": 374
        }
      },
      "source": [
        "# create tensor with matrix list\n",
        "x = np.array([[1, 2, 3], [4, 5, 6]])\n",
        "print('x = \\n', x)\n",
        "\n",
        "# create tensor with zeros or ones\n",
        "x = np.zeros(shape=(2, 4))\n",
        "print('x = \\n', x)\n",
        "x = np.ones(shape=(2, 4))\n",
        "print('x = \\n', x)\n",
        "\n",
        "# create tensor with random distribution along with fixed size\n",
        "y = np.random.normal(loc=0, scale=1, size=(3, 4))\n",
        "print('y = \\n', y)\n",
        "\n",
        "# you can reproduce the output of random distribution with seeds\n",
        "np.random.seed(1234)\n",
        "y1 = np.random.normal(loc=0, scale=1, size=(3, 4))\n",
        "print('y1 = \\n', y1)\n",
        "\n",
        "np.random.seed(1234)\n",
        "y2 = np.random.normal(loc=0, scale=1, size=(3, 4))\n",
        "print('y2 = \\n', y2)"
      ],
      "execution_count": 0,
      "outputs": [
        {
          "output_type": "stream",
          "text": [
            "x = \n",
            " [[1 2 3]\n",
            " [4 5 6]]\n",
            "x = \n",
            " [[0. 0. 0. 0.]\n",
            " [0. 0. 0. 0.]]\n",
            "x = \n",
            " [[1. 1. 1. 1.]\n",
            " [1. 1. 1. 1.]]\n",
            "y = \n",
            " [[ 0.99194602  1.32115819 -1.54690555 -0.20264632]\n",
            " [-0.65596934  0.19342138  0.55343891  1.31815155]\n",
            " [-0.46930528  0.67555409 -1.81702723 -0.18310854]]\n",
            "y1 = \n",
            " [[ 0.47143516 -1.19097569  1.43270697 -0.3126519 ]\n",
            " [-0.72058873  0.88716294  0.85958841 -0.6365235 ]\n",
            " [ 0.01569637 -2.24268495  1.15003572  0.99194602]]\n",
            "y2 = \n",
            " [[ 0.47143516 -1.19097569  1.43270697 -0.3126519 ]\n",
            " [-0.72058873  0.88716294  0.85958841 -0.6365235 ]\n",
            " [ 0.01569637 -2.24268495  1.15003572  0.99194602]]\n"
          ],
          "name": "stdout"
        }
      ]
    },
    {
      "cell_type": "markdown",
      "metadata": {
        "id": "XZ-OjSkQ-EM5",
        "colab_type": "text"
      },
      "source": [
        "# 2. Tensor Operations"
      ]
    },
    {
      "cell_type": "code",
      "metadata": {
        "id": "g2aAUX-U7-P4",
        "colab_type": "code",
        "outputId": "d65408a6-3683-4383-f908-5fe39a4b6646",
        "colab": {
          "base_uri": "https://localhost:8080/",
          "height": 85
        }
      },
      "source": [
        "# scalar operations\n",
        "x = np.array([1.5])\n",
        "y = np.array([3])\n",
        "\n",
        "print('x + y = ', x + y)\n",
        "print('x * y = ', x * y)\n",
        "print('x / y = ', x / y)\n",
        "print('x ** y = ', np.power(x,y))"
      ],
      "execution_count": 0,
      "outputs": [
        {
          "output_type": "stream",
          "text": [
            "x + y =  [4.5]\n",
            "x * y =  [4.5]\n",
            "x / y =  [0.5]\n",
            "x ** y =  [3.375]\n"
          ],
          "name": "stdout"
        }
      ]
    },
    {
      "cell_type": "code",
      "metadata": {
        "id": "81Me7U54DH7F",
        "colab_type": "code",
        "outputId": "a946967e-d308-4815-abdb-740bd27737fd",
        "colab": {
          "base_uri": "https://localhost:8080/",
          "height": 51
        }
      },
      "source": [
        "# vector operations\n",
        "v = np.array([1, 2, 3])\n",
        "u = np.array([-1, -2, -3])\n",
        "print('np.dot(v, u)=', np.dot(v, u))\n",
        "\n",
        "print('u + v =', u + v)"
      ],
      "execution_count": 0,
      "outputs": [
        {
          "output_type": "stream",
          "text": [
            "np.dot(v, u)= -14\n",
            "u + v = [0 0 0]\n"
          ],
          "name": "stdout"
        }
      ]
    },
    {
      "cell_type": "code",
      "metadata": {
        "id": "EKpESHJy-k9t",
        "colab_type": "code",
        "outputId": "7670c1ce-cec7-4928-f506-1c29e9bde50b",
        "colab": {
          "base_uri": "https://localhost:8080/",
          "height": 340
        }
      },
      "source": [
        "# matrix operations\n",
        "X = np.array([[1, 2, 3], [4, 5, 6]])\n",
        "print(\"X=\\n \", X)\n",
        "Y = np.array([[6, 4, 3], [2, 5, 9]])\n",
        "\n",
        "\n",
        "print('shape of X = ', X.shape)   #shape of tensor\n",
        "print('sum of along 0-axis = ', X.sum(axis=0))    #summation\n",
        "print('X+Y= \\n', X + Y)  #element-wise addition\n",
        "print('X * Y = \\n', X * Y)  #element-wise multiplication\n",
        "print('reshape X as (3,2) = \\n', X.reshape(3,2))    #reshape size\n",
        "print('swap axis of X = \\n', X.transpose((1,0)))     #change axis"
      ],
      "execution_count": 0,
      "outputs": [
        {
          "output_type": "stream",
          "text": [
            "X=\n",
            "  [[1 2 3]\n",
            " [4 5 6]]\n",
            "shape of X =  (2, 3)\n",
            "sum of along 0-axis =  [5 7 9]\n",
            "X+Y= \n",
            " [[ 7  6  6]\n",
            " [ 6 10 15]]\n",
            "X * Y = \n",
            " [[ 6  8  9]\n",
            " [ 8 25 54]]\n",
            "reshape X as (3,2) = \n",
            " [[1 2]\n",
            " [3 4]\n",
            " [5 6]]\n",
            "swap axis of X = \n",
            " [[1 4]\n",
            " [2 5]\n",
            " [3 6]]\n"
          ],
          "name": "stdout"
        }
      ]
    },
    {
      "cell_type": "markdown",
      "metadata": {
        "id": "sw4lswVHF-18",
        "colab_type": "text"
      },
      "source": [
        "[Matrix multiplication](https://docs.scipy.org/doc/numpy/reference/generated/numpy.matmul.html#numpy.matmul)\n",
        "\n",
        "\n",
        "* If both arguments are 2-D they are multiplied like conventional matrices.\n",
        "* If the first argument is 1-D, it is promoted to a matrix by prepending a 1 to its dimensions. After matrix multiplication the prepended 1 is removed.\n",
        "* If the second argument is 1-D, it is promoted to a matrix by appending a 1 to its dimensions. After matrix multiplication the appended 1 is removed.\n"
      ]
    },
    {
      "cell_type": "code",
      "metadata": {
        "id": "SFy3sOjTGOeh",
        "colab_type": "code",
        "outputId": "84755fc7-6a84-4c5d-cb33-5859a8cbf6ac",
        "colab": {
          "base_uri": "https://localhost:8080/",
          "height": 51
        }
      },
      "source": [
        "Z = np.array([[2,3], [3,4], [4,5]])\n",
        "v = np.array([1, 2, 3])\n",
        "\n",
        "print('np.matmul(X, Z) shape is ', np.matmul(X, Z).shape)\n",
        "print('np.matmul(X, v) shape is ', np.matmul(X, v).shape)"
      ],
      "execution_count": 0,
      "outputs": [
        {
          "output_type": "stream",
          "text": [
            "np.matmul(X, Z) shape is  (2, 2)\n",
            "np.matmul(X, v) shape is  (2,)\n"
          ],
          "name": "stdout"
        }
      ]
    },
    {
      "cell_type": "markdown",
      "metadata": {
        "id": "us7bFaEg7rIR",
        "colab_type": "text"
      },
      "source": [
        "Broadcasting rules from [cs231n](http://cs231n.github.io/python-numpy-tutorial/#numpy-broadcasting)\n",
        "\n",
        "1. If the arrays do not have the same rank, prepend the shape of the lower rank array with 1s until both shapes have the same length.\n",
        "2. The two arrays are said to be compatible in a dimension if they have the same size in the dimension, or if one of the arrays has size 1 in that dimension.\n",
        "3. The arrays can be broadcast together if they are compatible in all dimensions.\n",
        "4. After broadcasting, each array behaves as if it had shape equal to the elementwise maximum of shapes of the two input arrays.\n",
        "5. In any dimension where one array had size 1 and the other array had size greater than 1, the first array behaves as if it were copied along that dimension\n",
        "\n",
        "This rule applies to the [universal function](https://docs.scipy.org/doc/numpy/reference/ufuncs.html#available-ufuncs). Most are element-wise functions.\n",
        "\n",
        "More details at https://docs.scipy.org/doc/numpy-1.15.0/user/basics.broadcasting.html"
      ]
    },
    {
      "cell_type": "code",
      "metadata": {
        "id": "S-uQSHAq_ktQ",
        "colab_type": "code",
        "outputId": "b5ee2b82-3126-48cd-fb65-7aa6a9e60663",
        "colab": {
          "base_uri": "https://localhost:8080/",
          "height": 51
        }
      },
      "source": [
        "x = np.random.rand(2, 3)\n",
        "y = np.random.rand(2, 1)\n",
        "z = np.random.rand(3)    # better make the shape explicit, (3, 1)  or (1, 3)\n",
        "\n",
        "\n",
        "print('x + y shape is ', (x + y).shape)  #broadcast addition\n",
        "print('x * z shape is ', (x * z).shape)  #broadcast multiplication"
      ],
      "execution_count": 0,
      "outputs": [
        {
          "output_type": "stream",
          "text": [
            "x + y shape is  (2, 3)\n",
            "x * z shape is  (2, 3)\n"
          ],
          "name": "stdout"
        }
      ]
    },
    {
      "cell_type": "code",
      "metadata": {
        "id": "AkeHs2G37MZk",
        "colab_type": "code",
        "outputId": "a9b7b581-4755-4df6-df1c-75fb3a303408",
        "colab": {
          "base_uri": "https://localhost:8080/",
          "height": 198
        }
      },
      "source": [
        "x = np.random.rand(2,3)\n",
        "y = np.random.rand(2)   # better make the shape explicit, (1, 3)\n",
        "xy = x + y"
      ],
      "execution_count": 0,
      "outputs": [
        {
          "output_type": "error",
          "ename": "ValueError",
          "evalue": "ignored",
          "traceback": [
            "\u001b[0;31m---------------------------------------------------------------------------\u001b[0m",
            "\u001b[0;31mValueError\u001b[0m                                Traceback (most recent call last)",
            "\u001b[0;32m<ipython-input-26-0e5bdec2ce11>\u001b[0m in \u001b[0;36m<module>\u001b[0;34m()\u001b[0m\n\u001b[1;32m      1\u001b[0m \u001b[0mx\u001b[0m \u001b[0;34m=\u001b[0m \u001b[0mnp\u001b[0m\u001b[0;34m.\u001b[0m\u001b[0mrandom\u001b[0m\u001b[0;34m.\u001b[0m\u001b[0mrand\u001b[0m\u001b[0;34m(\u001b[0m\u001b[0;36m2\u001b[0m\u001b[0;34m,\u001b[0m\u001b[0;36m3\u001b[0m\u001b[0;34m)\u001b[0m\u001b[0;34m\u001b[0m\u001b[0;34m\u001b[0m\u001b[0m\n\u001b[1;32m      2\u001b[0m \u001b[0my\u001b[0m \u001b[0;34m=\u001b[0m \u001b[0mnp\u001b[0m\u001b[0;34m.\u001b[0m\u001b[0mrandom\u001b[0m\u001b[0;34m.\u001b[0m\u001b[0mrand\u001b[0m\u001b[0;34m(\u001b[0m\u001b[0;36m2\u001b[0m\u001b[0;34m)\u001b[0m   \u001b[0;31m# better make the shape explicit, (1, 3)\u001b[0m\u001b[0;34m\u001b[0m\u001b[0;34m\u001b[0m\u001b[0m\n\u001b[0;32m----> 3\u001b[0;31m \u001b[0mxy\u001b[0m \u001b[0;34m=\u001b[0m \u001b[0mx\u001b[0m \u001b[0;34m+\u001b[0m \u001b[0my\u001b[0m\u001b[0;34m\u001b[0m\u001b[0;34m\u001b[0m\u001b[0m\n\u001b[0m",
            "\u001b[0;31mValueError\u001b[0m: operands could not be broadcast together with shapes (2,3) (2,) "
          ]
        }
      ]
    },
    {
      "cell_type": "code",
      "metadata": {
        "id": "VqgJ_MeIG-f0",
        "colab_type": "code",
        "outputId": "daf714cb-23c0-4765-ae93-e39dadfea69e",
        "colab": {
          "base_uri": "https://localhost:8080/",
          "height": 34
        }
      },
      "source": [
        "x = np.random.rand(2, 1, 3)\n",
        "y = np.random.rand(3, 1, 2, 3)\n",
        "print('x / y shape is ', (x/y).shape)"
      ],
      "execution_count": 0,
      "outputs": [
        {
          "output_type": "stream",
          "text": [
            "x / y shape is  (3, 2, 2, 3)\n"
          ],
          "name": "stdout"
        }
      ]
    },
    {
      "cell_type": "code",
      "metadata": {
        "id": "zTDnwYW2F6kC",
        "colab_type": "code",
        "outputId": "e68d38f3-d517-417d-f36d-3fa30c7778a3",
        "colab": {
          "base_uri": "https://localhost:8080/",
          "height": 85
        }
      },
      "source": [
        "# Matrix Norm\n",
        "# More details in https://docs.scipy.org/doc/numpy/reference/generated/numpy.linalg.norm.html\n",
        "x = np.array([[1, 2, 3], [4, 5, 6]])\n",
        "\n",
        "print('Frobenius norm = \\n', np.linalg.norm(x, ord='fro'))\n",
        "print('2-norm = \\n', np.linalg.norm(x, ord=2))"
      ],
      "execution_count": 0,
      "outputs": [
        {
          "output_type": "stream",
          "text": [
            "Frobenius norm = \n",
            " 9.539392014169456\n",
            "2-norm = \n",
            " 9.508032000695724\n"
          ],
          "name": "stdout"
        }
      ]
    },
    {
      "cell_type": "markdown",
      "metadata": {
        "id": "QDNyAnaVDWv3",
        "colab_type": "text"
      },
      "source": [
        "# 3. Gradients Computation\n",
        "Suppose we have the following computations:\n",
        "\n",
        "\\begin{align}\n",
        "\\boldsymbol{u} & = A\\boldsymbol{x} \\\\\n",
        "y & = \\|\\boldsymbol{u}-\\boldsymbol{b}\\|^2 = (\\boldsymbol{u}-\\boldsymbol{b})^T(\\boldsymbol{u}-\\boldsymbol{b})\n",
        "\\end{align}\n",
        "\n",
        "where $\\boldsymbol{x} \\in \\mathbb{R}^{n \\times 1}$, $\\boldsymbol{u} \\in \\mathbb{R}^{m \\times 1}$, $\\boldsymbol{b} \\in \\mathbb{R}^{m \\times 1}$ are represented as column vectors and $\\boldsymbol{b}$ is a constant vector.\n",
        "\n",
        "Thus, the gradient can be computed as:\n",
        "\n",
        "\\begin{align}\n",
        "\\frac{\\partial{\\boldsymbol{u}}}{\\partial{\\boldsymbol{x}}} & = A \\\\\n",
        "\\frac{\\partial{y}}{\\partial{\\boldsymbol{u}}} & = (\\boldsymbol{u} - \\boldsymbol{b})^T \\\\\n",
        "\\frac{\\partial{y}}{\\partial{\\boldsymbol{x}}} & = (\\boldsymbol{u} - \\boldsymbol{b})^T A\n",
        "\\end{align}"
      ]
    },
    {
      "cell_type": "code",
      "metadata": {
        "id": "x9p0362cCLAK",
        "colab_type": "code",
        "outputId": "ac14f9cc-6675-41be-b0f8-63595daeef9b",
        "colab": {
          "base_uri": "https://localhost:8080/",
          "height": 272
        }
      },
      "source": [
        "np.random.seed(1234)\n",
        "x = np.random.normal(loc=0, scale=1, size=(3, 1))\n",
        "A = np.random.normal(loc=0, scale=1, size=(2, 3))\n",
        "u = np.matmul(A, x)\n",
        "b = np.random.normal(loc=0, scale=1, size=(2, 1))\n",
        "y = np.linalg.norm(u - b, ord=2) ** 2\n",
        "\n",
        "print('x = \\n', x)\n",
        "print('A = \\n', A)\n",
        "print('u = \\n', u)\n",
        "print('b = \\n', b)\n",
        "print('y = \\n', y)"
      ],
      "execution_count": 0,
      "outputs": [
        {
          "output_type": "stream",
          "text": [
            "x = \n",
            " [[ 0.47143516]\n",
            " [-1.19097569]\n",
            " [ 1.43270697]]\n",
            "A = \n",
            " [[-0.3126519  -0.72058873  0.88716294]\n",
            " [ 0.85958841 -0.6365235   0.01569637]]\n",
            "u = \n",
            " [[1.9818531 ]\n",
            " [1.18581253]]\n",
            "b = \n",
            " [[-2.24268495]\n",
            " [ 1.15003572]]\n",
            "y = \n",
            " 17.84800171888922\n"
          ],
          "name": "stdout"
        }
      ]
    },
    {
      "cell_type": "code",
      "metadata": {
        "id": "gfLuUee-KeWu",
        "colab_type": "code",
        "outputId": "c8674eb2-793d-4498-c1d1-c751748056f7",
        "colab": {
          "base_uri": "https://localhost:8080/",
          "height": 136
        }
      },
      "source": [
        "udx = A\n",
        "ydu = (u - b).transpose((1,0))\n",
        "ydx = np.matmul(ydu, udx)\n",
        "\n",
        "print('gradient of u to x = \\n', udx)\n",
        "print('gradient of y to u = \\n', ydu)\n",
        "print('gradient of y to x = \\n', ydx)"
      ],
      "execution_count": 0,
      "outputs": [
        {
          "output_type": "stream",
          "text": [
            "gradient of u to x = \n",
            " [[-0.3126519  -0.72058873  0.88716294]\n",
            " [ 0.85958841 -0.6365235   0.01569637]]\n",
            "gradient of y to u = \n",
            " [[4.22453805 0.0357768 ]]\n",
            "gradient of y to x = \n",
            " [[-1.29005651 -3.0669273   3.74841516]]\n"
          ],
          "name": "stdout"
        }
      ]
    },
    {
      "cell_type": "markdown",
      "metadata": {
        "id": "rSL918nXH9_s",
        "colab_type": "text"
      },
      "source": [
        "# Linear regression with a single instance\n",
        "\n",
        "\n",
        "Using gradient descent algorithm to optimize the objective function"
      ]
    },
    {
      "cell_type": "code",
      "metadata": {
        "id": "J2Q5cApsOZ74",
        "colab_type": "code",
        "outputId": "ecb21ed7-e9ed-4f1b-9ac3-81669a1f3151",
        "colab": {
          "base_uri": "https://localhost:8080/",
          "height": 187
        }
      },
      "source": [
        "# for a univariate problem with a single instance\n",
        "def opt(niter=10, alpha=0.1):\n",
        "    w=0.1\n",
        "    c1=1; c2=-1; c3=1  # computed from the data instance\n",
        "    for i in range(niter):\n",
        "        # print J(w)=w*w*c1+w*c2+c3\n",
        "        Jw = w*w*c1+w*c2+c3\n",
        "        print('Jw={}'.format(Jw))\n",
        "        \n",
        "        # compute the gradient of J(w) with respect to w\n",
        "        gw = 2*w*c1 + c2\n",
        "        \n",
        "        # update w\n",
        "        w = w - alpha * gw  \n",
        "\n",
        "opt()"
      ],
      "execution_count": 0,
      "outputs": [
        {
          "output_type": "stream",
          "text": [
            "Jw=0.91\n",
            "Jw=0.8524\n",
            "Jw=0.815536\n",
            "Jw=0.79194304\n",
            "Jw=0.7768435456\n",
            "Jw=0.7671798691839999\n",
            "Jw=0.76099511627776\n",
            "Jw=0.7570368744177665\n",
            "Jw=0.7545035996273705\n",
            "Jw=0.7528823037615171\n"
          ],
          "name": "stdout"
        }
      ]
    },
    {
      "cell_type": "code",
      "metadata": {
        "id": "TRGXHbpx9kQ7",
        "colab_type": "code",
        "outputId": "4ef57468-d4da-4618-9610-53a26d8689a8",
        "colab": {
          "base_uri": "https://localhost:8080/",
          "height": 187
        }
      },
      "source": [
        "# for a multivariate problem with a single instance\n",
        "def opt(niter=10, alpha=0.01):\n",
        "    w = np.random.rand(3)\n",
        "    x = np.array([3, 4, 5])  # feature\n",
        "    y = 0.9                  # target value\n",
        "    for i in range(niter):\n",
        "        # print J(w)=0.5*(np.dot(x, w) - y)**2\n",
        "        Jw = 0.5*(np.dot(x, w) - y)**2\n",
        "        print('Jw={}'.format(Jw))\n",
        "        \n",
        "        # compute the gradient of J(w) with respect to w\n",
        "        gw = (np.dot(x, w) - y) * x\n",
        "        \n",
        "        # update w\n",
        "        w = w - alpha * gw\n",
        "\n",
        "opt() "
      ],
      "execution_count": 0,
      "outputs": [
        {
          "output_type": "stream",
          "text": [
            "Jw=12.355186044755918\n",
            "Jw=3.0887965111889795\n",
            "Jw=0.7721991277972449\n",
            "Jw=0.19304978194931127\n",
            "Jw=0.048262445487327735\n",
            "Jw=0.01206561137183196\n",
            "Jw=0.0030164028429579856\n",
            "Jw=0.0007541007107394986\n",
            "Jw=0.00018852517768487247\n",
            "Jw=4.713129442121974e-05\n"
          ],
          "name": "stdout"
        }
      ]
    },
    {
      "cell_type": "markdown",
      "metadata": {
        "id": "7QP3N7H_Ip-n",
        "colab_type": "text"
      },
      "source": [
        "# Linear regression with multiple instances"
      ]
    },
    {
      "cell_type": "markdown",
      "metadata": {
        "id": "VrAsK_Y6JKqY",
        "colab_type": "text"
      },
      "source": [
        "We assume the data is generated via\n",
        "\n",
        "$$ y = w^Tx $$\n",
        "where w=[0.1, 2, 0.2]"
      ]
    },
    {
      "cell_type": "code",
      "metadata": {
        "id": "lU61-douJdKY",
        "colab_type": "code",
        "outputId": "4689e04c-759d-44d5-fb89-79184d945956",
        "colab": {
          "base_uri": "https://localhost:8080/",
          "height": 34
        }
      },
      "source": [
        "rng = np.random.RandomState(1)\n",
        "X = 5 * rng.rand(50, 3)\n",
        "w = np.array([0.1, 2., 0.2])   # ground truth w\n",
        "y = np.matmul(X, w) + rng.randn(50)\n",
        "print(X.shape, y.shape)"
      ],
      "execution_count": 0,
      "outputs": [
        {
          "output_type": "stream",
          "text": [
            "(50, 3) (50,)\n"
          ],
          "name": "stdout"
        }
      ]
    },
    {
      "cell_type": "code",
      "metadata": {
        "id": "8TFhBJUdJLNh",
        "colab_type": "code",
        "outputId": "ba1bf872-8038-4d3b-9dfd-9ad71266ce89",
        "colab": {
          "base_uri": "https://localhost:8080/",
          "height": 884
        }
      },
      "source": [
        "\n",
        "class MyLRModel():\n",
        "  def __init__(self, niter=50, alpha=0.03):\n",
        "    self.niter = niter\n",
        "    self.alpha = alpha\n",
        "    \n",
        "  def fit(self, X, y):\n",
        "    m, n = X.shape    \n",
        "    self.w = np.random.rand(n)  # initialize w\n",
        "    \n",
        "    for i in range(self.niter):\n",
        "      # Compute loss \n",
        "      Jw = 0.5 * np.average((np.matmul(X, self.w) - y)**2)\n",
        "      print('Jw = {}'.format(Jw))\n",
        "        \n",
        "      # Compute the gradient \n",
        "      gw = 1 / m * np.matmul(X.T, np.matmul(X, self.w) - y)\n",
        "        \n",
        "      # Update self.w\n",
        "      self.w = self.w - self.alpha * gw\n",
        "      \n",
        "      \n",
        "    self.coef_ = self.w\n",
        "    # self.intercept_ = self.b\n",
        "\n",
        "      \n",
        "  def predict(self, X):\n",
        "      return np.matmul(X, self.w) \n",
        "\n",
        "\n",
        "model = MyLRModel()\n",
        "\n",
        "model.fit(X, y)\n",
        "print(model.w)\n",
        "\n"
      ],
      "execution_count": 0,
      "outputs": [
        {
          "output_type": "stream",
          "text": [
            "Jw = 5.737387285352593\n",
            "Jw = 3.0507503964122873\n",
            "Jw = 2.3260674670940507\n",
            "Jw = 1.9746107422778911\n",
            "Jw = 1.7229782779069551\n",
            "Jw = 1.5192865475577642\n",
            "Jw = 1.3497550392445203\n",
            "Jw = 1.2078192090151167\n",
            "Jw = 1.0888198162625864\n",
            "Jw = 0.9889989858771994\n",
            "Jw = 0.9052364908315398\n",
            "Jw = 0.8349257435424461\n",
            "Jw = 0.7758863174398024\n",
            "Jw = 0.7262935534054015\n",
            "Jw = 0.6846201880908818\n",
            "Jw = 0.6495876479562321\n",
            "Jw = 0.6201253548679034\n",
            "Jw = 0.5953367142618993\n",
            "Jw = 0.5744706846815408\n",
            "Jw = 0.5568980104059847\n",
            "Jw = 0.5420913504002853\n",
            "Jw = 0.529608663142417\n",
            "Jw = 0.5190793123449605\n",
            "Jw = 0.5101924466598976\n",
            "Jw = 0.5026872800083169\n",
            "Jw = 0.4963449606083716\n",
            "Jw = 0.4909817680841854\n",
            "Jw = 0.4864434208949856\n",
            "Jw = 0.4826003121215031\n",
            "Jw = 0.47934352154948473\n",
            "Jw = 0.4765814769698888\n",
            "Jw = 0.4742371584834698\n",
            "Jw = 0.4722457570316611\n",
            "Jw = 0.470552712941749\n",
            "Jw = 0.46911207244488146\n",
            "Jw = 0.4678851102950102\n",
            "Jw = 0.46683917511500794\n",
            "Jw = 0.4659467211981074\n",
            "Jw = 0.4651844964283198\n",
            "Jw = 0.4645328609445635\n",
            "Jw = 0.46397521532019537\n",
            "Jw = 0.4634975204963737\n",
            "Jw = 0.46308789460607386\n",
            "Jw = 0.46273627424901664\n",
            "Jw = 0.4624341298043163\n",
            "Jw = 0.4621742260625159\n",
            "Jw = 0.46195042087627214\n",
            "Jw = 0.4617574957148456\n",
            "Jw = 0.4615910129997035\n",
            "Jw = 0.4614471959287519\n",
            "[0.09728755 2.03153556 0.20172815]\n"
          ],
          "name": "stdout"
        }
      ]
    },
    {
      "cell_type": "code",
      "metadata": {
        "id": "-psI8ZpDJ3y8",
        "colab_type": "code",
        "colab": {}
      },
      "source": [
        ""
      ],
      "execution_count": 0,
      "outputs": []
    }
  ]
}