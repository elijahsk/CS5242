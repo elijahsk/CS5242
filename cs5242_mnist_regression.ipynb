{
  "nbformat": 4,
  "nbformat_minor": 0,
  "metadata": {
    "colab": {
      "name": "cs5242-mnist-regression.ipynb",
      "version": "0.3.2",
      "provenance": [],
      "collapsed_sections": [],
      "include_colab_link": true
    },
    "kernelspec": {
      "name": "python3",
      "display_name": "Python 3"
    }
  },
  "cells": [
    {
      "cell_type": "markdown",
      "metadata": {
        "id": "view-in-github",
        "colab_type": "text"
      },
      "source": [
        "<a href=\"https://colab.research.google.com/github/elijahsk/CS5242/blob/master/cs5242_mnist_regression.ipynb\" target=\"_parent\"><img src=\"https://colab.research.google.com/assets/colab-badge.svg\" alt=\"Open In Colab\"/></a>"
      ]
    },
    {
      "cell_type": "markdown",
      "metadata": {
        "id": "0Qdg_hJmbX_T",
        "colab_type": "text"
      },
      "source": [
        "In this notebook, you will implement the logisitc regression model for classifying images for digit 0 and 1.\n",
        "\n",
        "Please add the code for places marked by **TODO**"
      ]
    },
    {
      "cell_type": "code",
      "metadata": {
        "id": "Xo7eufczC7z_",
        "colab_type": "code",
        "colab": {}
      },
      "source": [
        "import matplotlib.pyplot as plt\n",
        "%matplotlib inline"
      ],
      "execution_count": 0,
      "outputs": []
    },
    {
      "cell_type": "markdown",
      "metadata": {
        "id": "m4TIVVJaGisN",
        "colab_type": "text"
      },
      "source": [
        "## Loading Data\n",
        "Using SciKit-Learns ```fetch_openml``` to load MNIST data."
      ]
    },
    {
      "cell_type": "code",
      "metadata": {
        "id": "C-mcnUgsFYJ9",
        "colab_type": "code",
        "outputId": "c4c92d77-d286-4640-c2cb-410a45605ac8",
        "colab": {
          "base_uri": "https://localhost:8080/",
          "height": 35
        }
      },
      "source": [
        "from sklearn.datasets import fetch_openml\n",
        "\n",
        "\n",
        "mnist = fetch_openml('mnist_784', cache=False)\n",
        "mnist.data.shape"
      ],
      "execution_count": 0,
      "outputs": [
        {
          "output_type": "execute_result",
          "data": {
            "text/plain": [
              "(70000, 784)"
            ]
          },
          "metadata": {
            "tags": []
          },
          "execution_count": 3
        }
      ]
    },
    {
      "cell_type": "code",
      "metadata": {
        "id": "mu7Visw3bsGG",
        "colab_type": "code",
        "outputId": "1fad1996-1894-47a3-e44a-0c6144b7204c",
        "colab": {
          "base_uri": "https://localhost:8080/",
          "height": 287
        }
      },
      "source": [
        "plt.imshow(mnist.data[1].reshape(28, 28), cmap=plt.cm.binary)"
      ],
      "execution_count": 0,
      "outputs": [
        {
          "output_type": "execute_result",
          "data": {
            "text/plain": [
              "<matplotlib.image.AxesImage at 0x7f8efe2555f8>"
            ]
          },
          "metadata": {
            "tags": []
          },
          "execution_count": 4
        },
        {
          "output_type": "display_data",
          "data": {
            "image/png": "[encoded data removed]",
            "text/plain": [
              "<Figure size 432x288 with 1 Axes>"
            ]
          },
          "metadata": {
            "tags": []
          }
        }
      ]
    },
    {
      "cell_type": "markdown",
      "metadata": {
        "id": "NOMsjljRGyek",
        "colab_type": "text"
      },
      "source": [
        "## Preprocessing Data\n",
        "\n",
        "Each image of the MNIST dataset is encoded in a 784 dimensional vector, representing a 28 x 28 pixel image. Each pixel has a value between 0 and 255, corresponding to the grey-value of a pixel.<br />\n",
        "\n",
        "The above ```featch_mldata``` method to load MNIST returns ```data``` and ```target``` as ```uint8``` which we convert to ```float32``` and int64 respectively. \n",
        "\n",
        "We firstly select and shuffle the images with label 0 and 1 for the logistic regression. And then we normalize the data into range [0,1] for numerical stability while computing. Finally, we split data into train (80%) adnd test (20%) to indicate the performance of logistic regression during optimization."
      ]
    },
    {
      "cell_type": "code",
      "metadata": {
        "id": "t_zYhJ2-HOrP",
        "colab_type": "code",
        "outputId": "50258cca-e322-4a71-b805-5c48dd426906",
        "colab": {
          "base_uri": "https://localhost:8080/",
          "height": 54
        }
      },
      "source": [
        "from sklearn.model_selection import train_test_split\n",
        "import numpy as np\n",
        "\n",
        "\n",
        "X = mnist.data.astype('float32')\n",
        "y = mnist.target.astype('int64')\n",
        "\n",
        "X = np.concatenate([X[np.where(y==0)[0]], X[np.where(y==1)[0]]], axis=0)\n",
        "y = np.concatenate([np.zeros(sum(y==0)), np.ones(sum(y==1))], axis=0)\n",
        "\n",
        "\n",
        "X = X / 255.0\n",
        "\n",
        "\n",
        "X_train, X_test, y_train, y_test = train_test_split(X, y, test_size=0.2, random_state=1234)\n",
        "print('X train shape', X_train.shape)\n",
        "print('y train shape', y_train.shape)"
      ],
      "execution_count": 0,
      "outputs": [
        {
          "output_type": "stream",
          "text": [
            "X train shape (11824, 784)\n",
            "y train shape (11824,)\n"
          ],
          "name": "stdout"
        }
      ]
    },
    {
      "cell_type": "markdown",
      "metadata": {
        "id": "WioShkckVTtx",
        "colab_type": "text"
      },
      "source": [
        "## Defining Model\n",
        "\n",
        "Define the logistic regression, including the estimated probability and loss function"
      ]
    },
    {
      "cell_type": "code",
      "metadata": {
        "id": "YwqgHakvDH_F",
        "colab_type": "code",
        "colab": {}
      },
      "source": [
        "def logistic(w, X):\n",
        "    # Todo compute the probability that each image is labeled as 1\n",
        "    # w: (n, ), X: (m, n)\n",
        "    \n",
        "    return \n",
        "\n",
        "def binary_cross_entropy(p, y, eps=1e-6):\n",
        "    # following * operation is element-wise multiplication   \n",
        "    # p, y: (m, )\n",
        "    return np.sum(- y * np.log (p + eps) - (1-y)*np.log(1-p+eps)) / len(y)\n",
        "\n",
        "def accuracy(probs, target):\n",
        "    # probs: probability that each image is labeled as 1\n",
        "    # target: ground truth label\n",
        "    # both are vectors of shape (m, )\n",
        "    \n",
        "    prediction = probs >= 0.5    \n",
        "    acc = np.mean(prediction == target)\n",
        "    return acc * 100\n",
        "\n",
        "def forward(w, X, y):\n",
        "    # compute the accuracy and loss\n",
        "    \n",
        "    probs = logistic(w, X)\n",
        "    acc = accuracy(probs, y)    \n",
        "    loss = binary_cross_entropy(probs, y)    \n",
        "    return acc, loss"
      ],
      "execution_count": 0,
      "outputs": []
    },
    {
      "cell_type": "markdown",
      "metadata": {
        "id": "eRh1f_taVp6x",
        "colab_type": "text"
      },
      "source": [
        "## Computing Gradients\n",
        "\n",
        "Define the function to compute the gradients to parameters of logistic regression"
      ]
    },
    {
      "cell_type": "code",
      "metadata": {
        "id": "RweQO0lkPoQT",
        "colab_type": "code",
        "colab": {}
      },
      "source": [
        "def gradient(w, X, y):\n",
        "    # TODO compute the gradient of the loss w.r.t w\n",
        "    # w: vector (n,)\n",
        "    # X: matrix (m, n)\n",
        "    # y: vector (m,)\n",
        "    \n",
        "    return dw\n",
        "    "
      ],
      "execution_count": 0,
      "outputs": []
    },
    {
      "cell_type": "markdown",
      "metadata": {
        "id": "FOGomk0IVyQW",
        "colab_type": "text"
      },
      "source": [
        "## Initializing and Training\n",
        "\n",
        "Initialize parameters with Gaussian distribution (mean=0, std=0.1). And then define the training and testing function. After these, we can start training."
      ]
    },
    {
      "cell_type": "code",
      "metadata": {
        "id": "eSnbd1UIFqV7",
        "colab_type": "code",
        "colab": {}
      },
      "source": [
        "w = np.random.normal(loc=0.0, scale=0.1, size=(784,))"
      ],
      "execution_count": 0,
      "outputs": []
    },
    {
      "cell_type": "code",
      "metadata": {
        "id": "FeohJsN7LcZ0",
        "colab_type": "code",
        "colab": {}
      },
      "source": [
        "def train_logistic(w, X_train, y_train, X_test, y_test, epochs, lr=0.01):\n",
        "    \n",
        "    metrics = [] # to store intermediate results during optimization\n",
        "\n",
        "    for i in range(epochs):\n",
        "        print(f\"==> epoch {i+1}\")\n",
        "        \n",
        "        train_acc, train_loss = forward(w, X_train, y_train)        \n",
        "        test_acc, test_loss = forward(w, X_test, y_test)\n",
        "        print(\"train acc = %.2f%%, train loss = %.4f | test acc = %.2f%%, test loss = %.4f\" %(train_acc, train_loss, test_acc, test_loss))\n",
        "        \n",
        "        metrics += [[train_acc, train_loss, test_acc, test_loss]] # to store intermediate results\n",
        "\n",
        "        # to get the gradient to weight and update it (!!! need to be finished by students)\n",
        "        dw = gradient(w, X_train, y_train)\n",
        "        # TODO update w based on dw\n",
        "        \n",
        "\n",
        "    return metrics"
      ],
      "execution_count": 0,
      "outputs": []
    },
    {
      "cell_type": "code",
      "metadata": {
        "id": "Xh9eCRINMZsb",
        "colab_type": "code",
        "outputId": "213fe1cb-76d6-4d6e-96b1-67cb5445ce96",
        "colab": {
          "base_uri": "https://localhost:8080/",
          "height": 752
        }
      },
      "source": [
        "metrics = train_logistic(w, X_train, y_train, X_test, y_test, epochs=20, lr=0.1)"
      ],
      "execution_count": 0,
      "outputs": [
        {
          "output_type": "stream",
          "text": [
            "==> epoch 1\n",
            "train acc = 53.65%, train loss = 0.7398 | test acc = 52.77%, test loss = 0.7475\n",
            "==> epoch 2\n",
            "train acc = 82.59%, train loss = 0.4466 | test acc = 81.06%, test loss = 0.4531\n",
            "==> epoch 3\n",
            "train acc = 90.87%, train loss = 0.3382 | test acc = 90.70%, test loss = 0.3432\n",
            "==> epoch 4\n",
            "train acc = 94.50%, train loss = 0.2717 | test acc = 94.18%, test loss = 0.2757\n",
            "==> epoch 5\n",
            "train acc = 96.02%, train loss = 0.2272 | test acc = 95.74%, test loss = 0.2305\n",
            "==> epoch 6\n",
            "train acc = 96.83%, train loss = 0.1956 | test acc = 96.72%, test loss = 0.1984\n",
            "==> epoch 7\n",
            "train acc = 97.46%, train loss = 0.1720 | test acc = 97.36%, test loss = 0.1746\n",
            "==> epoch 8\n",
            "train acc = 97.94%, train loss = 0.1539 | test acc = 97.83%, test loss = 0.1562\n",
            "==> epoch 9\n",
            "train acc = 98.26%, train loss = 0.1395 | test acc = 98.14%, test loss = 0.1417\n",
            "==> epoch 10\n",
            "train acc = 98.42%, train loss = 0.1277 | test acc = 98.34%, test loss = 0.1298\n",
            "==> epoch 11\n",
            "train acc = 98.66%, train loss = 0.1180 | test acc = 98.48%, test loss = 0.1200\n",
            "==> epoch 12\n",
            "train acc = 98.78%, train loss = 0.1098 | test acc = 98.61%, test loss = 0.1118\n",
            "==> epoch 13\n",
            "train acc = 98.90%, train loss = 0.1028 | test acc = 98.68%, test loss = 0.1047\n",
            "==> epoch 14\n",
            "train acc = 98.99%, train loss = 0.0967 | test acc = 98.85%, test loss = 0.0986\n",
            "==> epoch 15\n",
            "train acc = 99.10%, train loss = 0.0914 | test acc = 99.02%, test loss = 0.0933\n",
            "==> epoch 16\n",
            "train acc = 99.20%, train loss = 0.0867 | test acc = 99.09%, test loss = 0.0886\n",
            "==> epoch 17\n",
            "train acc = 99.24%, train loss = 0.0826 | test acc = 99.19%, test loss = 0.0845\n",
            "==> epoch 18\n",
            "train acc = 99.29%, train loss = 0.0789 | test acc = 99.29%, test loss = 0.0808\n",
            "==> epoch 19\n",
            "train acc = 99.31%, train loss = 0.0755 | test acc = 99.32%, test loss = 0.0774\n",
            "==> epoch 20\n",
            "train acc = 99.37%, train loss = 0.0725 | test acc = 99.32%, test loss = 0.0744\n"
          ],
          "name": "stdout"
        }
      ]
    },
    {
      "cell_type": "markdown",
      "metadata": {
        "id": "6HgkTzALW6L6",
        "colab_type": "text"
      },
      "source": [
        "## Visualization\n"
      ]
    },
    {
      "cell_type": "code",
      "metadata": {
        "id": "wkyti8NkPVLn",
        "colab_type": "code",
        "outputId": "ffb0d777-8d90-43e9-c8e3-38521dc579e0",
        "colab": {
          "base_uri": "https://localhost:8080/",
          "height": 245
        }
      },
      "source": [
        "metrics = np.array(metrics)\n",
        "print(metrics.shape)\n",
        "\n",
        "epochs = len(metrics)\n",
        "x = range(epochs)\n",
        "\n",
        "\n",
        "plt.figure(figsize=(10,3))\n",
        "plt.subplot(121)\n",
        "plt.title('accuracy')\n",
        "plt.plot(x, metrics[:,0], 'b-.', label='train')\n",
        "plt.plot(x, metrics[:,2], 'r-*', label='test')\n",
        "plt.legend()\n",
        "\n",
        "plt.subplot(122)\n",
        "plt.title('loss')\n",
        "plt.plot(x, metrics[:,1], 'b-.', label='train')\n",
        "plt.plot(x, metrics[:,3], 'r-*', label='test')\n",
        "plt.legend()\n",
        "plt.show()"
      ],
      "execution_count": 0,
      "outputs": [
        {
          "output_type": "stream",
          "text": [
            "(20, 4)\n"
          ],
          "name": "stdout"
        },
        {
          "output_type": "display_data",
          "data": {
            "image/png": "[encoded data removed]",
            "text/plain": [
              "<Figure size 720x216 with 2 Axes>"
            ]
          },
          "metadata": {
            "tags": []
          }
        }
      ]
    },
    {
      "cell_type": "code",
      "metadata": {
        "id": "HcGfxSyCYauR",
        "colab_type": "code",
        "colab": {}
      },
      "source": [
        ""
      ],
      "execution_count": 0,
      "outputs": []
    }
  ]
}