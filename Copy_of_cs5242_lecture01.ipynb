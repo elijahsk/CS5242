{
  "nbformat": 4,
  "nbformat_minor": 0,
  "metadata": {
    "colab": {
      "name": "Copy of cs5242-lecture01",
      "version": "0.3.2",
      "provenance": [],
      "collapsed_sections": [],
      "include_colab_link": true
    },
    "kernelspec": {
      "name": "python3",
      "display_name": "Python 3"
    }
  },
  "cells": [
    {
      "cell_type": "markdown",
      "metadata": {
        "id": "view-in-github",
        "colab_type": "text"
      },
      "source": [
        "<a href=\"https://colab.research.google.com/github/elijahsk/CS5242/blob/master/Copy_of_cs5242_lecture01.ipynb\" target=\"_parent\"><img src=\"https://colab.research.google.com/assets/colab-badge.svg\" alt=\"Open In Colab\"/></a>"
      ]
    },
    {
      "cell_type": "code",
      "metadata": {
        "id": "Wrl4vtzg502Y",
        "colab_type": "code",
        "colab": {}
      },
      "source": [
        "import numpy as np"
      ],
      "execution_count": 0,
      "outputs": []
    },
    {
      "cell_type": "markdown",
      "metadata": {
        "id": "vFZO-hyC6JFq",
        "colab_type": "text"
      },
      "source": [
        "# 1. Tensor Construction\n",
        "\n",
        "\n",
        "In numpy the data is stored in arrays. We call one array as a tensor, which could be a scalar, vector, matrix or higher dimensional array.\n",
        "\n",
        "\n"
      ]
    },
    {
      "cell_type": "code",
      "metadata": {
        "id": "p-f2xYyz7tOK",
        "colab_type": "code",
        "outputId": "4aae6013-29e2-47be-e09a-9d386490b450",
        "colab": {
          "base_uri": "https://localhost:8080/",
          "height": 370
        }
      },
      "source": [
        "# create tensor with matrix list\n",
        "x = np.array([[1, 2, 3], [4, 5, 6]])\n",
        "print('x = \\n', x)\n",
        "\n",
        "# create tensor with zeros or ones\n",
        "x = np.zeros(shape=(2, 4))\n",
        "print('x = \\n', x)\n",
        "x = np.ones(shape=(2, 4))\n",
        "print('x = \\n', x)\n",
        "\n",
        "# create tensor with random distribution along with fixed size\n",
        "y = np.random.normal(loc=0, scale=1, size=(3, 4))\n",
        "print('y = \\n', y)\n",
        "\n",
        "# you can reproduce the output of random distribution with seeds\n",
        "np.random.seed(1234)\n",
        "y1 = np.random.normal(loc=0, scale=1, size=(3, 4))\n",
        "print('y1 = \\n', y1)\n",
        "\n",
        "np.random.seed(1234)\n",
        "y2 = np.random.normal(loc=0, scale=1, size=(3, 4))\n",
        "print('y2 = \\n', y2)"
      ],
      "execution_count": 0,
      "outputs": [
        {
          "output_type": "stream",
          "text": [
            "x = \n",
            " [[1 2 3]\n",
            " [4 5 6]]\n",
            "x = \n",
            " [[0. 0. 0. 0.]\n",
            " [0. 0. 0. 0.]]\n",
            "x = \n",
            " [[1. 1. 1. 1.]\n",
            " [1. 1. 1. 1.]]\n",
            "y = \n",
            " [[ 0.44426901  0.00802872  0.48975512 -2.40482141]\n",
            " [-0.28727938  0.45672132  0.03043535  0.65424097]\n",
            " [-0.40204053  1.08393754 -0.69372148  0.45288199]]\n",
            "y1 = \n",
            " [[ 0.47143516 -1.19097569  1.43270697 -0.3126519 ]\n",
            " [-0.72058873  0.88716294  0.85958841 -0.6365235 ]\n",
            " [ 0.01569637 -2.24268495  1.15003572  0.99194602]]\n",
            "y2 = \n",
            " [[ 0.47143516 -1.19097569  1.43270697 -0.3126519 ]\n",
            " [-0.72058873  0.88716294  0.85958841 -0.6365235 ]\n",
            " [ 0.01569637 -2.24268495  1.15003572  0.99194602]]\n"
          ],
          "name": "stdout"
        }
      ]
    },
    {
      "cell_type": "code",
      "metadata": {
        "id": "5pJtrzxn6z2X",
        "colab_type": "code",
        "colab": {}
      },
      "source": [
        ""
      ],
      "execution_count": 0,
      "outputs": []
    },
    {
      "cell_type": "markdown",
      "metadata": {
        "id": "XZ-OjSkQ-EM5",
        "colab_type": "text"
      },
      "source": [
        "# 2. Tensor Operations"
      ]
    },
    {
      "cell_type": "code",
      "metadata": {
        "id": "g2aAUX-U7-P4",
        "colab_type": "code",
        "outputId": "11fcfeb0-2183-4847-f6f7-39e1f665fde3",
        "colab": {
          "base_uri": "https://localhost:8080/",
          "height": 84
        }
      },
      "source": [
        "# scalar operations\n",
        "x = np.array([1.5])\n",
        "y = np.array([3])\n",
        "\n",
        "print('x + y = ', x + y)\n",
        "print('x * y = ', x * y)\n",
        "print('x / y = ', x / y)\n",
        "print('x ** y = ', np.power(x,y))"
      ],
      "execution_count": 0,
      "outputs": [
        {
          "output_type": "stream",
          "text": [
            "x + y =  [4.5]\n",
            "x * y =  [4.5]\n",
            "x / y =  [0.5]\n",
            "x ** y =  [3.375]\n"
          ],
          "name": "stdout"
        }
      ]
    },
    {
      "cell_type": "code",
      "metadata": {
        "id": "81Me7U54DH7F",
        "colab_type": "code",
        "outputId": "29ed97ba-f8f6-4a1d-974b-6f8055f203aa",
        "colab": {
          "base_uri": "https://localhost:8080/",
          "height": 50
        }
      },
      "source": [
        "# vector operations\n",
        "v = np.array([1, 2, 3])\n",
        "u = np.array([-1, -2, -3])\n",
        "print('np.dot(v, u)=', np.dot(v, u))\n",
        "\n",
        "print('u + v =', u + v)"
      ],
      "execution_count": 0,
      "outputs": [
        {
          "output_type": "stream",
          "text": [
            "np.dot(v, u)= -14\n",
            "u + v = [0 0 0]\n"
          ],
          "name": "stdout"
        }
      ]
    },
    {
      "cell_type": "code",
      "metadata": {
        "id": "EKpESHJy-k9t",
        "colab_type": "code",
        "outputId": "28a9b0ff-a73d-4f59-c725-841c1d1b8274",
        "colab": {
          "base_uri": "https://localhost:8080/",
          "height": 336
        }
      },
      "source": [
        "# matrix operations\n",
        "X = np.array([[1, 2, 3], [4, 5, 6]])\n",
        "print(\"X=\\n \", X)\n",
        "Y = np.array([[6, 4, 3], [2, 5, 9]])\n",
        "\n",
        "\n",
        "print('shape of X = ', X.shape)                   #shape of tensor\n",
        "print('sum of along 0-axis = ', X.sum(axis=0))    #summation\n",
        "print('X+Y= \\n', X + Y)                           #element-wise addition\n",
        "print('X * Y = \\n', X * Y)                        #element-wise multiplication\n",
        "print('reshape X as (3,2) = \\n', X.reshape(3,2))  #reshape size\n",
        "print('swap axis of X = \\n', X.transpose((1,0)))  #change axis"
      ],
      "execution_count": 0,
      "outputs": [
        {
          "output_type": "stream",
          "text": [
            "X=\n",
            "  [[1 2 3]\n",
            " [4 5 6]]\n",
            "shape of X =  (2, 3)\n",
            "sum of along 0-axis =  [5 7 9]\n",
            "X+Y= \n",
            " [[ 7  6  6]\n",
            " [ 6 10 15]]\n",
            "X * Y = \n",
            " [[ 6  8  9]\n",
            " [ 8 25 54]]\n",
            "reshape X as (3,2) = \n",
            " [[1 2]\n",
            " [3 4]\n",
            " [5 6]]\n",
            "swap axis of X = \n",
            " [[1 4]\n",
            " [2 5]\n",
            " [3 6]]\n"
          ],
          "name": "stdout"
        }
      ]
    },
    {
      "cell_type": "markdown",
      "metadata": {
        "id": "sw4lswVHF-18",
        "colab_type": "text"
      },
      "source": [
        "[Matrix multiplication](https://docs.scipy.org/doc/numpy/reference/generated/numpy.matmul.html#numpy.matmul)\n",
        "\n",
        "\n",
        "* If both arguments are 2-D they are multiplied like conventional matrices.\n",
        "* If the first argument is 1-D, it is promoted to a matrix by prepending a 1 to its dimensions. After matrix multiplication the prepended 1 is removed.\n",
        "* If the second argument is 1-D, it is promoted to a matrix by appending a 1 to its dimensions. After matrix multiplication the appended 1 is removed.\n"
      ]
    },
    {
      "cell_type": "code",
      "metadata": {
        "id": "SFy3sOjTGOeh",
        "colab_type": "code",
        "outputId": "cf778408-8d5f-48a8-8f62-7535f33d4ba4",
        "colab": {
          "base_uri": "https://localhost:8080/",
          "height": 50
        }
      },
      "source": [
        "Z = np.array([[2,3], [3,4], [4,5]])\n",
        "v = np.array([1, 2, 3])\n",
        "\n",
        "print('np.matmul(X, Z) shape is ', np.matmul(X, Z).shape)\n",
        "print('np.matmul(X, v) shape is ', np.matmul(X, v).shape)"
      ],
      "execution_count": 0,
      "outputs": [
        {
          "output_type": "stream",
          "text": [
            "np.matmul(X, Z) shape is  (2, 2)\n",
            "np.matmul(X, v) shape is  (2,)\n"
          ],
          "name": "stdout"
        }
      ]
    },
    {
      "cell_type": "markdown",
      "metadata": {
        "id": "us7bFaEg7rIR",
        "colab_type": "text"
      },
      "source": [
        "Broadcasting rules from [cs231n](http://cs231n.github.io/python-numpy-tutorial/#numpy-broadcasting)\n",
        "\n",
        "1. If the arrays do not have the same rank, prepend the shape of the lower rank array with 1s until both shapes have the same length.\n",
        "2. The two arrays are said to be compatible in a dimension if they have the same size in the dimension, or if one of the arrays has size 1 in that dimension.\n",
        "3. The arrays can be broadcast together if they are compatible in all dimensions.\n",
        "4. After broadcasting, each array behaves as if it had shape equal to the elementwise maximum of shapes of the two input arrays.\n",
        "5. In any dimension where one array had size 1 and the other array had size greater than 1, the first array behaves as if it were copied along that dimension\n",
        "\n",
        "This rule applies to the [universal function](https://docs.scipy.org/doc/numpy/reference/ufuncs.html#available-ufuncs). Most are element-wise functions.\n",
        "\n",
        "More details at https://docs.scipy.org/doc/numpy-1.15.0/user/basics.broadcasting.html"
      ]
    },
    {
      "cell_type": "code",
      "metadata": {
        "id": "S-uQSHAq_ktQ",
        "colab_type": "code",
        "outputId": "62502a0b-5dfb-4512-b497-b2fe439af172",
        "colab": {
          "base_uri": "https://localhost:8080/",
          "height": 289
        }
      },
      "source": [
        "x = np.random.rand(2, 3)\n",
        "y = np.random.rand(2, 1)\n",
        "z = np.random.rand(3)    # better make the shape explicit, (3, 1)  or (1, 3)\n",
        "\n",
        "\n",
        "print('x is \\n', x)\n",
        "print('y is \\n', y)\n",
        "print('z is \\n', z)\n",
        "print('x + y is \\n', x + y)\n",
        "print('x + y shape is ', (x + y).shape)  #broadcast addition\n",
        "print('x * z is \\n', x * z)\n",
        "print('x * z shape is ', (x * z).shape)  #broadcast addition"
      ],
      "execution_count": 0,
      "outputs": [
        {
          "output_type": "stream",
          "text": [
            "x is \n",
            " [[0.01840676 0.16184026 0.81743596]\n",
            " [0.83817576 0.74623645 0.13825706]]\n",
            "y is \n",
            " [[0.86601291]\n",
            " [0.20512351]]\n",
            "z is \n",
            " [0.93880059 0.8571827  0.15702727]\n",
            "x + y is \n",
            " [[0.88441967 1.02785317 1.68344887]\n",
            " [1.04329927 0.95135996 0.34338057]]\n",
            "x + y shape is  (2, 3)\n",
            "x * z is \n",
            " [[0.01728028 0.13872667 0.12835973]\n",
            " [0.7868799  0.63966098 0.02171013]]\n",
            "x * z shape is  (2, 3)\n"
          ],
          "name": "stdout"
        }
      ]
    },
    {
      "cell_type": "code",
      "metadata": {
        "id": "AkeHs2G37MZk",
        "colab_type": "code",
        "outputId": "bda2e435-058b-48db-9b3e-4d010647573a",
        "colab": {
          "base_uri": "https://localhost:8080/",
          "height": 201
        }
      },
      "source": [
        "x = np.random.rand(2,3)\n",
        "y = np.random.rand(2)   # better make the shape explicit, (3, 1)  or (1, 3)\n",
        "xy = x + y"
      ],
      "execution_count": 0,
      "outputs": [
        {
          "output_type": "error",
          "ename": "ValueError",
          "evalue": "ignored",
          "traceback": [
            "\u001b[0;31m---------------------------------------------------------------------------\u001b[0m",
            "\u001b[0;31mValueError\u001b[0m                                Traceback (most recent call last)",
            "\u001b[0;32m<ipython-input-3-02bd6afbd453>\u001b[0m in \u001b[0;36m<module>\u001b[0;34m()\u001b[0m\n\u001b[1;32m      1\u001b[0m \u001b[0mx\u001b[0m \u001b[0;34m=\u001b[0m \u001b[0mnp\u001b[0m\u001b[0;34m.\u001b[0m\u001b[0mrandom\u001b[0m\u001b[0;34m.\u001b[0m\u001b[0mrand\u001b[0m\u001b[0;34m(\u001b[0m\u001b[0;36m2\u001b[0m\u001b[0;34m,\u001b[0m\u001b[0;36m3\u001b[0m\u001b[0;34m)\u001b[0m\u001b[0;34m\u001b[0m\u001b[0;34m\u001b[0m\u001b[0m\n\u001b[1;32m      2\u001b[0m \u001b[0my\u001b[0m \u001b[0;34m=\u001b[0m \u001b[0mnp\u001b[0m\u001b[0;34m.\u001b[0m\u001b[0mrandom\u001b[0m\u001b[0;34m.\u001b[0m\u001b[0mrand\u001b[0m\u001b[0;34m(\u001b[0m\u001b[0;36m2\u001b[0m\u001b[0;34m)\u001b[0m   \u001b[0;31m# better make the shape explicit, (3, 1)  or (1, 3)\u001b[0m\u001b[0;34m\u001b[0m\u001b[0;34m\u001b[0m\u001b[0m\n\u001b[0;32m----> 3\u001b[0;31m \u001b[0mxy\u001b[0m \u001b[0;34m=\u001b[0m \u001b[0mx\u001b[0m \u001b[0;34m+\u001b[0m \u001b[0my\u001b[0m\u001b[0;34m\u001b[0m\u001b[0;34m\u001b[0m\u001b[0m\n\u001b[0m",
            "\u001b[0;31mValueError\u001b[0m: operands could not be broadcast together with shapes (2,3) (2,) "
          ]
        }
      ]
    },
    {
      "cell_type": "code",
      "metadata": {
        "id": "VqgJ_MeIG-f0",
        "colab_type": "code",
        "outputId": "a3f49628-f5aa-4580-a850-36d68c069369",
        "colab": {
          "base_uri": "https://localhost:8080/",
          "height": 35
        }
      },
      "source": [
        "x = np.random.rand(2, 1, 3)\n",
        "y = np.random.rand(3, 1, 2, 3)\n",
        "print('x / y shape is ', (x/y).shape)"
      ],
      "execution_count": 0,
      "outputs": [
        {
          "output_type": "stream",
          "text": [
            "x / y shape is  (3, 2, 2, 3)\n"
          ],
          "name": "stdout"
        }
      ]
    },
    {
      "cell_type": "code",
      "metadata": {
        "id": "zTDnwYW2F6kC",
        "colab_type": "code",
        "outputId": "7acdf3e0-d43d-4147-a6a9-c2b333bf975f",
        "colab": {
          "base_uri": "https://localhost:8080/",
          "height": 87
        }
      },
      "source": [
        "# Matrix Norm\n",
        "# More details in https://docs.scipy.org/doc/numpy/reference/generated/numpy.linalg.norm.html\n",
        "x = np.array([[1, 2, 3], [4, 5, 6]])\n",
        "\n",
        "print('Frobenius norm = \\n', np.linalg.norm(x, ord='fro'))\n",
        "print('2-norm = \\n', np.linalg.norm(x, ord=2))"
      ],
      "execution_count": 0,
      "outputs": [
        {
          "output_type": "stream",
          "text": [
            "Frobenius norm = \n",
            " 9.539392014169456\n",
            "2-norm = \n",
            " 9.508032000695724\n"
          ],
          "name": "stdout"
        }
      ]
    },
    {
      "cell_type": "markdown",
      "metadata": {
        "id": "QDNyAnaVDWv3",
        "colab_type": "text"
      },
      "source": [
        "# 3. Gradients Computation\n",
        "Suppose we have the following computations:\n",
        "\n",
        "\\begin{align}\n",
        "\\boldsymbol{u} & = A\\boldsymbol{x} \\\\\n",
        "y & = \\|\\boldsymbol{u}-\\boldsymbol{b}\\|^2 = (\\boldsymbol{u}-\\boldsymbol{b})^T(\\boldsymbol{u}-\\boldsymbol{b})\n",
        "\\end{align}\n",
        "\n",
        "where $\\boldsymbol{x} \\in \\mathbb{R}^{n \\times 1}$, $\\boldsymbol{u} \\in \\mathbb{R}^{m \\times 1}$, $\\boldsymbol{b} \\in \\mathbb{R}^{m \\times 1}$ are represented as column vectors and $\\boldsymbol{b}$ is a constant vector.\n",
        "\n",
        "Thus, the gradient can be computed as:\n",
        "\n",
        "\\begin{align}\n",
        "\\frac{\\partial{\\boldsymbol{u}}}{\\partial{\\boldsymbol{x}}} & = A \\\\\n",
        "\\frac{\\partial{y}}{\\partial{\\boldsymbol{u}}} & = (\\boldsymbol{u} - \\boldsymbol{b})^T \\\\\n",
        "\\frac{\\partial{y}}{\\partial{\\boldsymbol{x}}} & = (\\boldsymbol{u} - \\boldsymbol{b})^T A\n",
        "\\end{align}"
      ]
    },
    {
      "cell_type": "code",
      "metadata": {
        "id": "x9p0362cCLAK",
        "colab_type": "code",
        "outputId": "53973979-450b-44d4-ffdc-e58658ca6e8f",
        "colab": {
          "base_uri": "https://localhost:8080/",
          "height": 289
        }
      },
      "source": [
        "import numpy as np\n",
        "np.random.seed(1234)\n",
        "x = np.random.normal(loc=0, scale=1, size=(3, 1))\n",
        "A = np.random.normal(loc=0, scale=1, size=(2, 3))\n",
        "b = np.random.normal(loc=0, scale=1, size=(2, 1))\n",
        "u = np.matmul(A, x)\n",
        "print('x = \\n', x)\n",
        "print('A = \\n', A)\n",
        "print('u = \\n', u)\n",
        "# a=np.array([np.arange(4), np.arange(4)])\n",
        "# print(a.shape)\n",
        "# print(a)\n",
        "# print((np.transpose(a)))"
      ],
      "execution_count": 0,
      "outputs": [
        {
          "output_type": "stream",
          "text": [
            "[[1.9818531 ]\n",
            " [1.18581253]]\n",
            "x = \n",
            " [[ 0.47143516]\n",
            " [-1.19097569]\n",
            " [ 1.43270697]]\n",
            "A = \n",
            " [[-0.3126519  -0.72058873  0.88716294]\n",
            " [ 0.85958841 -0.6365235   0.01569637]]\n",
            "(2, 4)\n",
            "[[0 1 2 3]\n",
            " [0 1 2 3]]\n",
            "[[0 0]\n",
            " [1 1]\n",
            " [2 2]\n",
            " [3 3]]\n"
          ],
          "name": "stdout"
        }
      ]
    },
    {
      "cell_type": "code",
      "metadata": {
        "id": "gfLuUee-KeWu",
        "colab_type": "code",
        "outputId": "6a1766fb-3ebf-4bc3-f6b2-1a8f245bca80",
        "colab": {
          "base_uri": "https://localhost:8080/",
          "height": 136
        }
      },
      "source": [
        "udx = A\n",
        "ydu = np.transpose(u - b)\n",
        "ydx = np.matmul(ydu, A)\n",
        "\n",
        "print('gradient of u to x = \\n', udx)\n",
        "print('gradient of y to u = \\n', ydu)\n",
        "print('gradient of y to x = \\n', ydx)"
      ],
      "execution_count": 0,
      "outputs": [
        {
          "output_type": "stream",
          "text": [
            "gradient of u to x = \n",
            " [[-0.3126519  -0.72058873  0.88716294]\n",
            " [ 0.85958841 -0.6365235   0.01569637]]\n",
            "gradient of y to u = \n",
            " [[4.22453805 0.0357768 ]]\n",
            "gradient of y to x = \n",
            " [[-1.29005651 -3.0669273   3.74841516]]\n"
          ],
          "name": "stdout"
        }
      ]
    },
    {
      "cell_type": "code",
      "metadata": {
        "id": "R-FINfYSGL5l",
        "colab_type": "code",
        "colab": {}
      },
      "source": [
        ""
      ],
      "execution_count": 0,
      "outputs": []
    },
    {
      "cell_type": "markdown",
      "metadata": {
        "id": "rSL918nXH9_s",
        "colab_type": "text"
      },
      "source": [
        "# Linear regression for a single instance\n",
        "\n",
        "\n",
        "Using gradient descent algorithm to optimize the objective function"
      ]
    },
    {
      "cell_type": "code",
      "metadata": {
        "id": "J2Q5cApsOZ74",
        "colab_type": "code",
        "outputId": "26c2c412-34ac-46e7-f4a3-284a4c7eb404",
        "colab": {
          "base_uri": "https://localhost:8080/",
          "height": 187
        }
      },
      "source": [
        "# for a univariate problem with a single instance\n",
        "def opt(niter=10, alpha=0.1, c1=1, c2=-1, c3=1):\n",
        "    w=0.1\n",
        "    for i in range(niter):\n",
        "        # print J(w)=w*w*c1+w*c2+c3\n",
        "        Jw = w * w * c1 + w * c2 + c3\n",
        "        print('Jw={}'.format(Jw))\n",
        "        \n",
        "        # compute the gradient of J(w) with respect to w\n",
        "        gw = 2 * c1 * w + c2\n",
        "        \n",
        "        # update w\n",
        "        w = w - alpha * gw\n",
        "\n",
        "opt()"
      ],
      "execution_count": 0,
      "outputs": [
        {
          "output_type": "stream",
          "text": [
            "Jw=0.91\n",
            "Jw=0.8524\n",
            "Jw=0.815536\n",
            "Jw=0.79194304\n",
            "Jw=0.7768435456\n",
            "Jw=0.7671798691839999\n",
            "Jw=0.76099511627776\n",
            "Jw=0.7570368744177665\n",
            "Jw=0.7545035996273705\n",
            "Jw=0.7528823037615171\n"
          ],
          "name": "stdout"
        }
      ]
    },
    {
      "cell_type": "code",
      "metadata": {
        "id": "TRGXHbpx9kQ7",
        "colab_type": "code",
        "outputId": "f6bc4730-ec9c-4b0c-b838-8f99ef097412",
        "colab": {
          "base_uri": "https://localhost:8080/",
          "height": 357
        }
      },
      "source": [
        "# for a multivariate problem with a single instance\n",
        "def opt(niter=20, alpha=0.01):\n",
        "    w = np.random.rand(3)\n",
        "    x = np.array([3, 4, 5])  # feature\n",
        "    y = 0.9                  # target value\n",
        "    for i in range(niter):\n",
        "        # print J(w)=0.5*(np.dot(x, w) - y)**2\n",
        "        Jw = 0.5 * (np.dot(x, w) - y) ** 2\n",
        "        print('Jw={}'.format(Jw))\n",
        "        \n",
        "        # compute the gradient of J(w) with respect to w\n",
        "        gw = (np.dot(x, w) - y) * x\n",
        "        \n",
        "        # update w\n",
        "        w = w - alpha * gw\n",
        "\n",
        "opt() "
      ],
      "execution_count": 0,
      "outputs": [
        {
          "output_type": "stream",
          "text": [
            "Jw=12.654016097683373\n",
            "Jw=3.163504024420843\n",
            "Jw=0.7908760061052111\n",
            "Jw=0.1977190015263027\n",
            "Jw=0.04942975038157573\n",
            "Jw=0.012357437595393941\n",
            "Jw=0.003089359398848481\n",
            "Jw=0.0007723398497121093\n",
            "Jw=0.00019308496242802733\n",
            "Jw=4.827124060700847e-05\n",
            "Jw=1.2067810151750754e-05\n",
            "Jw=3.01695253793837e-06\n",
            "Jw=7.54238134484388e-07\n",
            "Jw=1.885595336211311e-07\n",
            "Jw=4.713988340526573e-08\n",
            "Jw=1.1784970851359044e-08\n",
            "Jw=2.946242712839761e-09\n",
            "Jw=7.365606782078096e-10\n",
            "Jw=1.841401695519524e-10\n",
            "Jw=4.60350423890534e-11\n"
          ],
          "name": "stdout"
        }
      ]
    },
    {
      "cell_type": "markdown",
      "metadata": {
        "id": "7QP3N7H_Ip-n",
        "colab_type": "text"
      },
      "source": [
        "# Linear regression with multiple instances"
      ]
    },
    {
      "cell_type": "markdown",
      "metadata": {
        "id": "VrAsK_Y6JKqY",
        "colab_type": "text"
      },
      "source": [
        "We assume the data is generated via\n",
        "\n",
        "$$ y = w^Tx $$\n",
        "where w=[0.1, 2, 0.2]"
      ]
    },
    {
      "cell_type": "code",
      "metadata": {
        "id": "lU61-douJdKY",
        "colab_type": "code",
        "outputId": "9d700fbb-150c-4023-f303-04e66b4d4f58",
        "colab": {
          "base_uri": "https://localhost:8080/",
          "height": 34
        }
      },
      "source": [
        "rng = np.random.RandomState(1)\n",
        "X = 5 * rng.rand(50, 3)\n",
        "w = np.array([0.1, 2., 0.2])   # ground truth w\n",
        "y = np.matmul(X, w) + rng.randn(50)\n",
        "print(X.shape, y.shape)"
      ],
      "execution_count": 0,
      "outputs": [
        {
          "output_type": "stream",
          "text": [
            "(50, 3) (50,)\n"
          ],
          "name": "stdout"
        }
      ]
    },
    {
      "cell_type": "code",
      "metadata": {
        "id": "8TFhBJUdJLNh",
        "colab_type": "code",
        "outputId": "e5958ae6-9eb3-452b-ba20-161a1e980db5",
        "colab": {
          "base_uri": "https://localhost:8080/",
          "height": 884
        }
      },
      "source": [
        "\n",
        "class MyLRModel():\n",
        "  def __init__(self, niter=50, alpha=0.03):\n",
        "    self.niter = niter\n",
        "    self.alpha = alpha\n",
        "    \n",
        "  def fit(self, X, y):\n",
        "    m, n = X.shape    \n",
        "    self.w = np.random.rand(n)  # initialize w\n",
        "    \n",
        "    for i in range(self.niter):\n",
        "      # Compute loss \n",
        "      temp = np.sum(X * self.w, axis = 1) - y\n",
        "      Jw = 0.5 * np.sum(temp * temp) / m\n",
        "      print('Jw = {}'.format(Jw))\n",
        "#       print(temp.shape)  \n",
        "      # Compute the gradient \n",
        "      gw = np.matmul(np.transpose(X), temp) / m\n",
        "#       print(gw)\n",
        "        \n",
        "      # Update self.w\n",
        "      self.w = self.w - self.alpha * gw\n",
        "#       print(end='')\n",
        "\n",
        "      \n",
        "  def predict(self, X):\n",
        "      return np.matmul(X, self.w) \n",
        "\n",
        "\n",
        "model = MyLRModel()\n",
        "\n",
        "model.fit(X, y)\n",
        "print(model.w)\n",
        "\n"
      ],
      "execution_count": 0,
      "outputs": [
        {
          "output_type": "stream",
          "text": [
            "Jw = 6.018602764972609\n",
            "Jw = 2.6820927245710555\n",
            "Jw = 1.9600410489823807\n",
            "Jw = 1.6974288835674778\n",
            "Jw = 1.530319794218116\n",
            "Jw = 1.3952181926926404\n",
            "Jw = 1.2793150586817075\n",
            "Jw = 1.1785992740260547\n",
            "Jw = 1.0907958068172772\n",
            "Jw = 1.0141444590293403\n",
            "Jw = 0.9471627361168173\n",
            "Jw = 0.8885784580252227\n",
            "Jw = 0.8372949421081575\n",
            "Jw = 0.7923651444493086\n",
            "Jw = 0.7529702674729387\n",
            "Jw = 0.7184016287771496\n",
            "Jw = 0.6880452074319348\n",
            "Jw = 0.6613684475254074\n",
            "Jw = 0.637908976174347\n",
            "Jw = 0.6172649483091573\n",
            "Jw = 0.5990867752496677\n",
            "Jw = 0.58307003147267\n",
            "Jw = 0.5689493654399304\n",
            "Jw = 0.556493266889831\n",
            "Jw = 0.5454995653886002\n",
            "Jw = 0.5357915538471425\n",
            "Jw = 0.527214646688668\n",
            "Jw = 0.5196334958638971\n",
            "Jw = 0.512929499343446\n",
            "Jw = 0.5069986463978214\n",
            "Jw = 0.5017496521788093\n",
            "Jw = 0.49710234107274465\n",
            "Jw = 0.49298624420034476\n",
            "Jw = 0.48933938145277994\n",
            "Jw = 0.48610720271700214\n",
            "Jw = 0.48324166657082057\n",
            "Jw = 0.4807004378174202\n",
            "Jw = 0.47844618786222376\n",
            "Jw = 0.4764459841816467\n",
            "Jw = 0.47467075705191886\n",
            "Jw = 0.47309483334629365\n",
            "Jw = 0.4716955286124034\n",
            "Jw = 0.47045278984365263\n",
            "Jw = 0.46934888238927885\n",
            "Jw = 0.4683681153324188\n",
            "Jw = 0.4674966004256627\n",
            "Jw = 0.4667220403274076\n",
            "Jw = 0.4660335424452734\n",
            "Jw = 0.4654214551780945\n",
            "Jw = 0.46487722376668617\n",
            "[0.13101283 2.01527548 0.18692469]\n"
          ],
          "name": "stdout"
        }
      ]
    },
    {
      "cell_type": "code",
      "metadata": {
        "id": "-psI8ZpDJ3y8",
        "colab_type": "code",
        "colab": {}
      },
      "source": [
        ""
      ],
      "execution_count": 0,
      "outputs": []
    }
  ]
}